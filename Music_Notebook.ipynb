{
 "cells": [
  {
   "cell_type": "code",
   "execution_count": 1,
   "metadata": {},
   "outputs": [],
   "source": [
    "import numpy as np\n",
    "from scipy.io.wavfile import write\n",
    "\n",
    "image = np.load(\"C:/Users/Alast/OneDrive/Pictures/Art/444870-World-of-Warcraft-Druid-PC-gaming-video-game-art.jpg\")\n",
    "\n",
    "rate = 44100\n",
    "data = np.random.uniform(-1, 1, rate) # 1 second worth of random samples between -1 and 1\n",
    "scaled = np.int16(data / np.max(np.abs(data)) * 32767)\n",
    "write('test.wav', rate, scaled)"
   ]
  }
 ],
 "metadata": {
  "kernelspec": {
   "display_name": ".venv",
   "language": "python",
   "name": "python3"
  },
  "language_info": {
   "codemirror_mode": {
    "name": "ipython",
    "version": 3
   },
   "file_extension": ".py",
   "mimetype": "text/x-python",
   "name": "python",
   "nbconvert_exporter": "python",
   "pygments_lexer": "ipython3",
   "version": "3.9.0"
  },
  "orig_nbformat": 4
 },
 "nbformat": 4,
 "nbformat_minor": 2
}
